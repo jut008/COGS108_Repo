{
 "cells": [
  {
   "cell_type": "markdown",
   "metadata": {},
   "source": [
    "**If you lost points on the last checkpoint you can get them back by responding to TA/IA feedback**  \n",
    "\n",
    "Update/change the relevant sections where you lost those points, make sure you respond on GitHub Issues to your TA/IA to call their attention to the changes you made here.\n",
    "\n",
    "Please update your Timeline... no battle plan survives contact with the enemy, so make sure we understand how your plans have changed."
   ]
  },
  {
   "cell_type": "markdown",
   "metadata": {},
   "source": [
    "# COGS 108 - Data Checkpoint"
   ]
  },
  {
   "cell_type": "markdown",
   "metadata": {},
"source": [
    "# Names\n",
    "\n",
    "- Hovhannes Broyan\n",
    "- Keean Albao\n",
    "- Judy Truong\n",
    "- Jaime Church\n",
    "- Donovan Le"
   ]
  },
  {
   "cell_type": "markdown",
   "metadata": {},
   "source": [
    "# Research Question\n",
    "\n",
    "How much does home advantage and average attendance per game affect a team’s performance for the National Basketball Association vs. Major League Baseball? Are there any teams with a high win percentage on the road? Are there any teams with a low win percentage at home?"
  ]
},
 {
   "cell_type": "markdown",
   "metadata": {},
   "source": [
      "## Background and Prior Work"
   ]
 },
  {
   "cell_type": "markdown",
   "metadata": {},
"source": [
    "\n",
    "The topic of home court advantage has been discussed by fans and experts alike since the inception of modern organized sports. For certain professional sport leagues like the National Basketball Association and Major League Baseball, numerous studies have been conducted to investigate home court advantage and its impact on a team's performance. A recent study by Jason Kotecki dived deep into the psychology and reasoning behind why teams, specifically the National Basketball Association, performed better at home. Throughout Kotecki’s work, he explains other factors beyond the presence of the fans supporting their home team.  Kotecki explains that players do not want to shirk, or “purposely do not perform to the best of his ability”, in the presence of their fans ([^3](#cite_ref-3)).\n",
    "\n",
    "Like the National Basketball Association, the Major League Baseball has also had studies conducted. According to Baseball Reference, historically the average of any team is .500, its winning percentage goes up to .530 at home, and down to .470 on the road ([^4](#cite_ref-4)). This ratio has held steady in Major League Baseball since 1945 and has been fairly consistent throughout all eras of baseball…” ([^5](#cite_ref-5)). While there have been some studies that have shown a correlation, we hope to confirm these findings, investigate any outliers within the data set, and determine what factors contributed to these anomalies. \n",
    "\n",
    "3. <a name=\"#cite_ref-3\"></a> [^](#cite_ref-3) Kotecki, Jason. “Estimating the Effect of Home Court Advantage on Wins in the NBA.” IWU, 2014. [link](http://digitalcommons.iwu.edu/cgi/viewcontent.cgi?article=1422&context=parkplace)\n",
    "4. <a name=\"#cite_ref-4\"></a> [^](#cite_ref-4) BR Bullpen. Winning Percentage. Accessed 24 Feb. 2024. [link](http://www.baseball-reference.com/bullpen/Winning_Percentage)\n",
    "5. <a name=\"#cite_ref-5\"></a> [^](#cite_ref-5) BR Bullpen. Home Field Advantage. Accessed 24 Feb. 2024. [link](http://www.baseball-reference.com/bullpen/Home_field_advantage)\n"
]
  },
  {
   "cell_type": "markdown",
   "metadata": {},
   "source": [
    "# Hypothesis\n",
    "\n",
    "As a team, we believe home advantage matters in both leagues, but more so in the National Basketball Association because the National Basketball Association’s environment is louder, more compact, and intimate, so the home fans will have a more positive impact on their team as opposed to the home fans in a Major League Baseball stadium. We also believe that average attendance per game affects a team’s win percentage. Obviously, sports fans usually root for the team in the state/city they live in, but some teams have higher average stadium attendance compared to others, and so we think that as average attendance increases, home team win percentage increases."
]
},
  {
   "cell_type": "markdown",
   "metadata": {},
   "source": [
    "# Data\n"
  ]
},
  {
   "cell_type": "markdown",
   "metadata": {},
   "source": [
    "## Data overview\n",
    "\n",
    "For each dataset include the following information\n",
    "- Variables:\n",
    "  - Teams: 60 (30 MLB, 30 NBA)\n",
    "  - Years per team: 5 (2015-2019)\n",
    "  - Number of games home and away\n",
    "  - Average attendance per game (home vs away)\n",
    "  - Number of wins and losses (home vs away)\n",
    "- Ideal Datasets vs. Existing Datasets\n",
    "  - The ideal datasets to answer this question would be to have 10 different datasets (5 National Basketball Association and 5 Major League Baseball) corresponding to 5 different seasons. Each dataset for both leagues would contain 30 observations/rows (corresponding to each team) with variables/columns such as number of games won at home, number of games lost at home, number of games won away, number of games lost away, total number of games, average attendance at home stadium for the whole season, average attendance for away games.\n",
    "  - Although we ideally want varying substantial data all in one dataset, it may require cross referencing several different sites or datasets for completeness. This will therefore require us to wrangle existing datasets. One site or dataset will provide attendance data while another may provide win percentage, # of wins/losses, or overall performance.\n",
    "- Dataset #1\n",
    "  - Dataset Name: National Basketball Association Attendance (2015-2019)\n",
    "  - Link to the dataset: https://www.espn.com/nba/attendance\n",
    "  - Number of observations: 150\n",
    "  - Number of variables: 12\n",
    "- Dataset #2\n",
    "  - Dataset Name: National Basketball Association Standings (2015-2019)\n",
    "  - Link to the dataset: https://www.espn.com/nba/standings/_/season/2019\n",
    "  - Number of observations: 150\n",
    "  - Number of variables: 2\n",
    "- Dataset #3\n",
    "  - Dataset Name: Major League Baseball Attendance (2015-2019)\n",
    "  - Link to the dataset: https://www.espn.com/mlb/attendance\n",
    "  - Number of observations: 150\n",
    "  - Number of variables: 12\n",
    "- Dataset #4\n",
    "  - Dataset Name: Major League Baseball Standings (2015-2019)\n",
    "  - Link to the dataset: https://www.espn.com/mlb/standings/_/season/2019\n",
    "  - Number of observations: 150\n",
    "  - Number of variables: 2\n",
    "\n",
    "Now write 2 - 5 sentences describing each dataset here. Include a short description of the important variables in the dataset; what the metrics and datatypes are, what concepts they may be proxies for. Include information about how you would need to wrangle/clean/preprocess the dataset\n",
    "\n",
    "The datasets we plan on using are the National Basketball Association Attendance and Standings datasets from 2015 to 2019, and the Major League Baseball Attendance and Standings datasets from 2015 to 2019. The important variables will include: all teams participating in each league, the year in which the data was collected, the number of home games and away games, the average attendance of home games versus away games, and the wins and losses of each team’s home and away games. Other than the name of each team and the year, most of the data will be numeric that will represent attendance and team performance metrics. We would need to wrangle or consolidate two datasets (attendance and standings), clean any possible missing data, and create new variables such as 'home wins' and 'away wins'.\n",
    "\n",
    "If you plan to use multiple datasets, add a few sentences about how you plan to combine these datasets.\n",
    "\n",
    "We are using multiple datasets, and we will add performance metrics (wins and losses) to the dataset with attendance metrics."
  ]
},
  {
   "cell_type": "markdown",
   "metadata": {},
   "source": [
    "## MERGED NBA DATA"
  ]
},
  {
   "cell_type": "code",
   "execution_count": null,
   "metadata": {},
   "outputs": [],
   "source": [
    "df_nba = pd.read_csv('NBA 2015-2019 Attendance.csv')\n",
    "df_nba = df_nba.set_index(['YEAR', 'TEAM'])\n",
    "\n",
    "for col in df_nba.columns:\n",
    "    # Remove commas and convert to numeric\n",
    "    df_nba[col] = df_nba[col].replace(',', '', regex=True)\n",
    "    df_nba[col] = pd.to_numeric(df_nba[col], errors='coerce')\n",
    "\n",
    "df_nba_wr = pd.read_csv('NBA W_R.csv')\n",
    "df_nba_wr = df_nba_wr.set_index(['YEAR', 'TEAM']).rename(columns = {'HOME': 'HOME_WL', 'ROAD': \"AWAY_WL\"})\n",
    "df_nba_wr = df_nba_wr[['HOME_WL', 'AWAY_WL']]\n",
    "\n",
    "final_nba = pd.merge(df_nba, df_nba_wr, left_index=True, right_index=True, how='inner')"
   ]
  },
  {
   "cell_type": "markdown",
   "metadata": {},
   "source": [
    "## MERGED MLB DATA"
  ]
},
  {
   "cell_type": "code",
   "execution_count": null,
   "metadata": {},
   "outputs": [],
   "source": [
    "df_mlb = pd.read_csv('MLB 2015-2019 Attendance.csv')\n",
    "df_mlb = df_mlb.set_index(['YEAR', 'TEAM'])\n",
    "\n",
    "for col in df_mlb.columns:\n",
    "    # Remove commas and convert to numeric\n",
    "    df_mlb[col] = df_mlb[col].replace(',', '', regex=True)\n",
    "    df_mlb[col] = pd.to_numeric(df_mlb[col], errors='coerce')\n",
    "\n",
    "df_mlb_winloss = pd.read_csv('MLB WinLoss.csv')\n",
    "df_mlb_winloss = df_mlb_winloss.set_index(['YEAR', 'TEAM']).rename(columns = {'HOME': 'HOME_WL', 'AWAY': 'AWAY_WL'})\n",
    "df_mlb_winloss = df_mlb_winloss[['HOME_WL', 'AWAY_WL']]\n",
    "\n",
    "final_mlb = pd.merge(df_mlb, df_mlb_winloss, left_index=True, right_index=True, how='inner')"
   ]
  },
  {
   "cell_type": "markdown",
   "metadata": {},
   "source": [
    "## Ethics & Privacy\n",
    "\n",
    "For the data sets we proposed, there might be some bias involved. Even though the datasets we intend to collect are reported directly from each prospective league or from reputable sports/athletics sources, such as ESPN, certain teams or organizations may skew the data by overestimating the number of home team fans to attract attention from sponsors or news outlets. In our research for potential data sets, we adjusted the variables we intended to use by ensuring the data sets for those variables are public and not locked by certain institutions. To mitigate the amount of bias in our data we will actively seek out data sets that are representative and include all teams in every league’s conference. For example, when looking at datasets, we want to only take data that occurs during the regular season to ensure all teams have the same frequency in total games played. If we were to include playoffs, many teams do not reach the playoffs. As a team, we will be transparent by reporting and documenting any limitations or biases within our data or methodology."
]
},
  {
   "cell_type": "markdown",
   "metadata": {},
   "source": [
    "# Team Expectations\n",
    "\n",
    "Read over the [COGS108 Team Policies](https://github.com/COGS108/Projects/blob/master/COGS108_TeamPolicies.md) individually. Then, include your group’s expectations of one another for successful completion of your COGS108 project below. Discuss and agree on what all of your expectations are. Discuss how your team will communicate throughout the quarter and consider how you will communicate respectfully should conflicts arise. By including each member’s name above and by adding their name to the submission, you are indicating that you have read the COGS108 Team Policies, accept your team’s expectations below, and have every intention to fulfill them. These expectations are for your team’s use and benefit — they won’t be graded for their details.\n",
    "\n",
    "* *Hovhannes*: I expect all of us to demonstrate flexibility by taking on various roles as needed and to contribute equally to tasks ranging from data analysis to writing. I look forward to cooperating and regularly participating in our meetings to ensure we stay on track and meet our deadlines. Most importantly, I expect we will all provide constructive feedback and support to create a collaborative and adaptive team environment.\n",
    "* *Keean*: I expect everyone (including myself) in the group to complete the tasks they are assigned to within reasonable time and effort. I also expect everyone to communicate anything that is on their mind, whether that be a new idea, problem, or suggestion. I want everyone to feel included and be able to speak up if they don't agree on something, or if they don't feel comfortable with something. I also expect everyone to understand that we all have other stuff to do in our lives, so putting too much pressure on others to finish their tasks would be unnecessary.\n",
    "* *Judy*: Considering the project's complexity, it’s essential to maintain consistent and clear communication throughout the project. I hope we can maintain an open dialogue where everyone can comfortably share ideas, give feedback, and address concerns. Roles and responsibilities should be equally divided between everyone that would preferably adhere to each of our strengths and abilities. It’s also important that everyone is respectful and understanding of each other as well. Other than that I personally don’t have a lot of experience with group projects in this kind of sense, so I hope everyone can be patient with me, but I will be sure to hold myself accountable!\n",
    "* *Jaime*: Given that the goal of this project is to familiarize ourselves with the technical, ethical, and organizational processes of carrying out a data science question, I expect all of us to acknowledge there will certainly be a learning curve. That is to say, I expect patience and understanding in the challenges, humility in the successes, and genuine effort and contribution from everyone throughout. Knowing and communicating your strengths and weaknesses is an essential part of industry/corporate work, so I don’t see why it should be any different here. I am intimidated by the technical aspects of this project, but am excited to see what we can do as a team.\n",
    "* *Donovan*: Because many of us are coming from different technical and educational backgrounds, I expect everyone to be understanding and acknowledge our differences in experience.  The most important thing for us is to be inclusive. At the end of the day, we are a team and should welcome all ideas. I expect everyone (especially myself) to put in the effort needed to accomplish our tasks and communicate to each other when deadlines cannot be met. As a team, if someone is dealing with the load of their work from other classes, I want us to rally and help that person. We are all students and should empathize with each other!"
]
},
  {
   "cell_type": "markdown",
   "metadata": {},
   "source": [
    "# Project Timeline Proposal\n",
    "\n",
    "Specify your team's specific project timeline. An example timeline has been provided. Changes the dates, times, names, and details to fit your group's plan.\n",
    "\n",
    "If you think you will need any special resources or training outside what we have covered in COGS 108 to solve your problem, then your proposal should state these clearly. For example, if you have selected a problem that involves implementing multiple neural networks, please state this so we can make sure you know what you’re doing and so we can point you to resources you will need to implement your project. Note that you are not required to use outside methods.\n",
    "\n",
    "| Meeting Date  | Meeting Time| Completed Before Meeting  | Discuss at Meeting |\n",
    "|---|---|---|---|\n",
    "| 2/26  | 10 AM  | Prep for Checkpoint 2 / Start EDA |  Obtain deeper understanding of data, attempt to answer our questions, play with visualizations |\n",
    "| 3/4  | 10 AM  | Work on Checkpoint 2 / Continue EDA | Create visualizations and make analyses, look for patterns and correlations, understand ethical/privacy factors |\n",
    "| 3/11  | 10 AM  | Prep for Final Report, Video, and Project | Discuss/edit full project |\n",
    "| 3/18  | 10 AM  | Work on Final Report, Video, and Project| Discuss/edit full project |"
   ]
  }
 ],
 "metadata": {
  "kernelspec": {
   "display_name": "Python 3 (ipykernel)",
   "language": "python",
   "name": "python3"
  },
  "language_info": {
   "codemirror_mode": {
    "name": "ipython",
    "version": 3
   },
   "file_extension": ".py",
   "mimetype": "text/x-python",
   "name": "python",
   "nbconvert_exporter": "python",
   "pygments_lexer": "ipython3",
   "version": "3.9.7"
  }
 },
 "nbformat": 4,
 "nbformat_minor": 2
}
