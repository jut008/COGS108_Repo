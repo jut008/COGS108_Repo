{
 "cells": [
  {
   "cell_type": "markdown",
   "metadata": {},
   "source": [
    "# COGS 108 - Project Proposal"
   ]
  },
  {
   "cell_type": "markdown",
   "metadata": {},
   "source": [
    "# Names\n",
    "\n",
    "- Hovhannes Broyan\n",
    "- Keean Albao\n",
    "- Judy Truong\n",
    "- Jaime Church\n",
    "- Donovan Le"
   ]
  },
  {
   "cell_type": "markdown",
   "metadata": {},
   "source": [
    "# Research Question"
   ]
  },
  {
   "cell_type": "markdown",
   "metadata": {},
   "source": [
    "How much does home court advantage affect a team’s performance for the NBA vs. the MLB? Do other factors contribute to a team's win percentage i.e. injuries, average attendance per game? Are there any teams with a high win percentage on the road? Are there any teams with a low win percentage at home?"
   ]
  },
  {
   "cell_type": "markdown",
   "metadata": {},
   "source": [
    "## Background and Prior Work"
   ]
  },
  {
   "cell_type": "markdown",
   "metadata": {},
   "source": [
    "The topic of home court advantage has been discussed by fans and experts alike since the inception of modern organized sports. For certain professional sport leagues like the NBA and MLB, numerous studies have been conducted to investigate home court advantage and its impact on a team's performance. A recent study by Jason Kotecki delved deep into the psychology and reasoning behind why teams, specifically NBA teams, performed better at home. Throughout Kotecki’s work, he explains other factors beyond the presence of the fans supporting their home team. Kotecki explains that players do not want to shirk or 'purposely do not perform to the best of his ability' in the presence of their fans (Kotecki, 2014). Like the NBA, the MLB has also had studies conducted. According to Baseball Reference, historically the average winning percentage of any team is .500, its winning percentage goes up to .530 at home, and down to .470 on the road. This ratio has held steady in Major League Baseball since 1945 and has been fairly consistent throughout all eras of baseball…' (Baseball Reference, 2023). While there have been some studies that have shown a correlation, we hope to confirm these findings, investigate any outliers within the data set, and determine what factors contributed to these anomalies. Sources: [https://arc.net/l/quote/jhvxfdhf](https://arc.net/l/quote/jhvxfdhf) [https://digitalcommons.iwu.edu/cgi/viewcontent.cgi?referer=&httpsredir=1&article=1412&context=parkplace](https://digitalcommons.iwu.edu/cgi/viewcontent.cgi?referer=&httpsredir=1&article=1412&context=parkplace)"
   ]
  },
  {
   "cell_type": "markdown",
   "metadata": {},
   "source": [
    "# Hypothesis\n",
    "\n",
    "- As a team, we believe home court advantage matters but more so in the NBA. We also believe that different factors can affect a team’s win percentage. For injuries, we believe that that factor will apply to both home and away teams but for time zone differences, this will have more of an impact on visiting teams."
   ]
  },
  {
   "cell_type": "markdown",
   "metadata": {},
   "source": [
   "# Data"
   ]
  },
  {
   "cell_type": "markdown",
   "metadata": {},
   "source": [
    "1. Variables:\n",
    "   - Teams: 60 (30 MLB, 30 NBA)\n",
    "   - Years per team: 5 (2015-2019)\n",
    "   - Average attendance per year, per game (home vs away): [MLB Attendance](https://www.espn.com/mlb/attendance), [NBA Attendance](https://www.espn.com/nba/attendance)\n",
    "   \n",
    "2. Ideal Datasets:\n",
    "   - The ideal datasets to answer this question would be to have 10 different datasets (5 NBA and 5 MLB) corresponding to 5 different seasons. Each dataset for both leagues would contain 30 observations/rows (corresponding to each team) with variables/columns such as number of games won at home, number of games lost at home, number of games won away, number of games lost away, total number of games, average attendance at home stadium for the whole season.\n",
    "   \n",
    "3. Data Sources:\n",
    "   - This data is easily accessible because it's all public. There are numerous sites such as ESPN and Sports Reference, that have the particular observations and variables that we need in order to answer this question.\n",
    "   \n",
    "4. Data Collection:\n",
    "   - We would collect the data from the provided sources by scraping the relevant information using web scraping tools such as BeautifulSoup in Python.\n",
    "   \n",
    "5. Data Organization:\n",
    "   - To store and organize this data, we plan on using Pandas DataFrames in Python, which provide a convenient way to structure and manipulate tabular data.\n",
    "   \n",
    "6. References:\n",
    "   - NBA Reference: [https://www.basketball-reference.com/](https://www.basketball-reference.com/)\n",
    "   - MLB Reference: [https://www.baseball-reference.com/](https://www.baseball-reference.com/)"
   ]
  },
  {
   "cell_type": "markdown",
   "metadata": {},
   "source": [
    "# Ethics & Privacy"
   ]
  },
  {
   "cell_type": "markdown",
   "metadata": {},
   "source": [
    "- Thoughtful discussion of ethical concerns included\n",
    "- Ethical concerns consider the whole data science process (question asked, data collected, data being used, the bias in data, analysis, post-analysis, etc.)\n",
    "- How your group handled bias/ethical concerns clearly described\n",
    "\n",
    "For the datasets we propose, there might be some bias involved. Even though the datasets we intend to collect are reported directly from each prospective league or from reputable sports/athletics sources, such as ESPN, certain teams or organizations may skew the data by overestimating the number of home team fans to attract attention from sponsors or news outlets. In our research for potential datasets, we adjusted the variables we intended to use by ensuring the datasets for those variables are public and not locked by certain institutions. To mitigate the amount of bias in our data, we will actively seek out datasets that are representative and include all teams in every league’s conference. For example, when looking at datasets, we want to only take data that occurs during the regular season to ensure all teams have the same frequency in total games played. If we were to include playoffs, many teams do not reach the playoffs. As a team, we will be transparent by reporting and documenting any limitations or biases within our data or methodology."
   ]
  },
  {
   "cell_type": "markdown",
   "metadata": {},
   "source": [
    "# Team Expectations "
   ]
  },
  {
   "cell_type": "markdown",
   "metadata": {},
  "source": [
    "\n",
    "Read over the [COGS108 Team Policies](https://github.com/COGS108/Projects/blob/master/COGS108_TeamPolicies.md) individually. Then, include your group’s expectations of one another for successful completion of your COGS108 project below. Discuss and agree on what all of your expectations are. Discuss how your team will communicate throughout the quarter and consider how you will communicate respectfully should conflicts arise. By including each member’s name above and by adding their name to the submission, you are indicating that you have read the COGS108 Team Policies, accept your team’s expectations below, and have every intention to fulfill them. These expectations are for your team’s use and benefit — they won’t be graded for their details.\n",
    "\n",
    "- Hovhannes: I expect all of us to demonstrate flexibility by taking on various roles as needed and to contribute equally to tasks ranging from data analysis to writing. I look forward to cooperating and regularly participating in our meetings to ensure we stay on track and meet our deadlines. Most importantly, I expect we will all provide constructive feedback and support to create a collaborative and adaptive team environment. \n",
    "- Keean: I expect everyone (including myself) in the group to complete the tasks they are assigned to within reasonable time and effort. I also expect everyone to communicate anything that is on their mind, whether that be a new idea, problem, or suggestion. I want everyone to feel included and be able to speak up if they don't agree on something, or if they don't feel comfortable with something. I also expect everyone to understand that we all have other stuff to do in our lives, so putting too much pressure on others to finish their tasks would be unnecessary.\n",
    "- Judy: Considering the project's complexity, it’s essential to maintain consistent and clear communication throughout the project. I hope we can maintain an open dialogue where everyone can comfortably share ideas, give feedback, and address concerns. Roles and responsibilities should be equally divided between everyone that would preferably adhere to each of our strengths and abilities. It’s also important that everyone is respectful and understanding of each other as well. Other than that I personally don’t have a lot of experience with group projects in this kind of sense, so I hope everyone can be patient with me, but I will be sure to hold myself accountable!\n",
    "- Jaime: Given that the goal of this project is to familiarize ourselves with the technical, ethical, and organizational processes of carrying out a data science question, I expect all of us to acknowledge there will certainly be a learning curve. That is to say, I expect patience and understanding in the challenges, humility in the successes, and genuine effort and contribution from everyone throughout. Knowing and communicating your strengths and weaknesses is an essential part of industry/corporate work, so I don’t see why it should be any different here. I am intimidated by the technical aspects of this project, but am excited to see what we can do as a team \n.",
    "- Donovan: Because many of us are coming from different technical and educational backgrounds, I expect everyone to be understanding and acknowledge our differences in experience. The most important thing for us is to be inclusive. At the end of the day, we are a team and should welcome all ideas. I expect everyone (especially myself) to put in the effort needed to accomplish our tasks and communicate to each other when deadlines cannot be met. As a team, if someone is dealing with the load of their work from other classes, I want us to rally and help that person. We are all students and should empathize with each other!\n"
   ]
  },
  {
   "cell_type": "markdown",
   "metadata": {},
   "source": [
    "# Project Timeline Proposal"
   ]
  },
  {
   "cell_type": "markdown",
   "metadata": {},
   "source": [
    "Specify your team's specific project timeline. An example timeline has been provided. Changes the dates, times, names, and details to fit your group's plan.\n",
    "\n",
    "If you think you will need any special resources or training outside what we have covered in COGS 108 to solve your problem, then your proposal should state these clearly. For example, if you have selected a problem that involves implementing multiple neural networks, please state this so we can make sure you know what you’re doing and so we can point you to resources you will need to implement your project. Note that you are not required to use outside methods.\n",
    "\n",
    "\n",
    "\n",
    "| Meeting Date  | Meeting Time| Completed Before Meeting  | Discuss at Meeting |\n",
    "|---|---|---|---|\n",
    "| 2/12  |  10 AM | Prep for Checkpoint 1 / Gather Data  | Discuss where to obtain data, how we want to create the datasets, what observations and variables to include, delegate tasks  |\n",
    "| 2/19  |  10 AM | Work on Checkpoint 1 / Wrangle Data  | Decide what we want to keep and want we want to remove, scale data to make it comparable with other data, clean data and organize |\n",
    "| 2/26  | 10 AM  | Prep for Checkpoint 2 / Start EDA |  Obtain deeper understanding of data, ask different questions, play with visualizations |\n",
    "| 3/4  | 10 AM  | Work on Checkpoint 2 / Continue EDA | Create visualizations and make analyses, look for patterns and correlations, understand ethical/privacy factors |\n",
    "| 3/11  | 10 AM  | Prep for Final Report, Video, and Project | Discuss/edit Analysis; Complete project check-in |\n",
    "| 3/18  | 10 AM  | Work on Final Report, Video, and Project| Discuss/edit full project |"
   ]
  }
 ],
 "metadata": {
  "kernelspec": {
   "display_name": "Python 3 (ipykernel)",
   "language": "python",
   "name": "python3"
  },
  "language_info": {
   "codemirror_mode": {
    "name": "ipython",
    "version": 3
   },
   "file_extension": ".py",
   "mimetype": "text/x-python",
   "name": "python",
   "nbconvert_exporter": "python",
   "pygments_lexer": "ipython3",
   "version": "3.9.7"
  }
 },
 "nbformat": 4,
 "nbformat_minor": 2
}
